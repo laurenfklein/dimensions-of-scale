{
 "cells": [
  {
   "cell_type": "code",
   "execution_count": null,
   "metadata": {},
   "outputs": [],
   "source": [
    "from sklearn.feature_extraction.text import CountVectorizer\n",
    "from datetime import datetime, date\n",
    "from glob import glob\n",
    "import os\n",
    "import numpy as np\n",
    "import matplotlib.pyplot as plt\n",
    "%matplotlib inline"
   ]
  },
  {
   "cell_type": "code",
   "execution_count": null,
   "metadata": {},
   "outputs": [],
   "source": [
    "# name of file w/ topic counts\n",
    "count_file = \"./counts/allpapers-topics.csv\""
   ]
  },
  {
   "cell_type": "code",
   "execution_count": null,
   "metadata": {},
   "outputs": [],
   "source": [
    "# load csv into pandas dataframe\n",
    "\n",
    "df = pd.read_csv(count_file)\n",
    "    \n",
    "# csv has header row in format \"Title\" then each topic number 0-99\n",
    "# each subesequent row is in format newspaper title, t00-proportion, t02-proportion etc.\n",
    "# each row totals the number of articles in corpus of that paper\n",
    "# each column totals the proportion of that topic in corpus   "
   ]
  },
  {
   "cell_type": "code",
   "execution_count": null,
   "metadata": {},
   "outputs": [],
   "source": [
    "# assign \n",
    "df_by_title = df.set_index('Title')"
   ]
  },
  {
   "cell_type": "code",
   "execution_count": null,
   "metadata": {},
   "outputs": [],
   "source": [
    "# look at topics that have high PMI with that paper. This is defined as:\n",
    "\n",
    "# PMI(topic, title) = log P (topic, title) - log P (topic) - log P (title)\n",
    "# variant of : https://github.com/jacobeisenstein/gt-css-class/blob/master/labs/lab6/Lab%206%20-%20Text%20over%20time.ipynb\n",
    "\n",
    "# PMI functions \n",
    "\n",
    "# this computues $p(i)$ where $i$ is a topic\n",
    "def get_p_topic(df_by_title): \n",
    "    df_tot = np.array(df_by_title.sum(axis=0))\n",
    "    return df_tot / df_by_title.values.sum()"
   ]
  },
  {
   "cell_type": "code",
   "execution_count": null,
   "metadata": {},
   "outputs": [],
   "source": [
    "P_base = get_p_topic(df_by_title)"
   ]
  },
  {
   "cell_type": "code",
   "execution_count": null,
   "metadata": {},
   "outputs": [],
   "source": [
    "plt.plot(P_base)\n",
    "plt.xlabel('topic number')\n",
    "plt.ylabel('proportion')"
   ]
  },
  {
   "cell_type": "code",
   "execution_count": null,
   "metadata": {},
   "outputs": [],
   "source": [
    "P_base"
   ]
  },
  {
   "cell_type": "code",
   "execution_count": null,
   "metadata": {},
   "outputs": [],
   "source": [
    "print(P_base.argsort()[::-1]) # topics ranked highest to lowest\n",
    "print(sorted(P_base)[::-1]) # their scores"
   ]
  },
  {
   "cell_type": "code",
   "execution_count": null,
   "metadata": {},
   "outputs": [],
   "source": [
    "# now compute p(paper) and p(topic,paper)\n",
    "\n",
    "# first, get sum of all topics in each title -- essentially, sum of each row \n",
    "all_titles = list(df_by_title.index)\n",
    "print(all_titles)"
   ]
  },
  {
   "cell_type": "code",
   "execution_count": null,
   "metadata": {},
   "outputs": [],
   "source": [
    "def get_p_title(df_by_title):\n",
    "    df_tot = np.array(df_by_title.sum(axis=1))\n",
    "    return df_tot / df_by_title.values.sum()\n",
    "\n",
    "P_title = get_p_title(df_by_title)"
   ]
  },
  {
   "cell_type": "code",
   "execution_count": null,
   "metadata": {},
   "outputs": [],
   "source": [
    "P_title"
   ]
  },
  {
   "cell_type": "code",
   "execution_count": null,
   "metadata": {},
   "outputs": [],
   "source": [
    "plt.plot(all_titles,P_title)\n",
    "plt.xlabel('title')\n",
    "plt.ylabel('percentage of all topics')\n",
    "plt.xticks(rotation=90);"
   ]
  },
  {
   "cell_type": "code",
   "execution_count": null,
   "metadata": {},
   "outputs": [],
   "source": [
    "# now compute PMI\n",
    "\n",
    "all_titles.index('TheLily')\n",
    "# all_titles.index('DouglassMonthly')\n"
   ]
  },
  {
   "cell_type": "code",
   "execution_count": null,
   "metadata": {},
   "outputs": [],
   "source": [
    "df_by_title.values"
   ]
  },
  {
   "cell_type": "code",
   "execution_count": null,
   "metadata": {},
   "outputs": [],
   "source": [
    "idx_TL = all_titles.index('TheLily')\n",
    "\n",
    "df_by_title.values[idx_TL,:]"
   ]
  },
  {
   "cell_type": "code",
   "execution_count": null,
   "metadata": {},
   "outputs": [],
   "source": [
    "df_by_title.values.sum()"
   ]
  },
  {
   "cell_type": "code",
   "execution_count": null,
   "metadata": {},
   "outputs": [],
   "source": [
    "idx_TL = all_titles.index('TheLily')\n",
    "pmi_TL = np.log(df_by_title.values[idx_TL,:]/df_by_title.values.sum()) - np.log(P_base) - np.log(P_title[idx_TL])\n",
    "\n"
   ]
  },
  {
   "cell_type": "code",
   "execution_count": null,
   "metadata": {},
   "outputs": [],
   "source": [
    "pmi_TL"
   ]
  },
  {
   "cell_type": "code",
   "execution_count": null,
   "metadata": {},
   "outputs": [],
   "source": [
    "print(pmi_TL.argsort()[::-1]) # topics ranked highest pmi to lowest\n",
    "print(sorted(pmi_TL)[::-1]) # their scores"
   ]
  },
  {
   "cell_type": "code",
   "execution_count": null,
   "metadata": {},
   "outputs": [],
   "source": [
    "def get_pmi_by_title(df_by_title,P_base,P_title,title):\n",
    "    idx = list(df_by_title.index).index(title)\n",
    "    \n",
    "    pmi = np.log(df_by_title.values[idx,:]/df_by_title.values.sum()) - np.log(P_base) - np.log(P_title[idx])\n",
    "    return pmi\n",
    "\n",
    "get_pmi_by_title(df_by_title,P_base,P_title,'TheLily')\n",
    "    "
   ]
  },
  {
   "cell_type": "code",
   "execution_count": null,
   "metadata": {},
   "outputs": [],
   "source": [
    "for title in list(df_by_title.index):\n",
    "    pmi = get_pmi_by_title(df_by_title,P_base,P_title,title)\n",
    "    \n",
    "    print(\"===\", title, \"===\")\n",
    "    print(pmi.argsort()[::-1][:10]) # topics ranked highest pmi to lowest\n",
    "    print(sorted(pmi)[::-1][:10]) # their scores\n",
    " "
   ]
  },
  {
   "cell_type": "code",
   "execution_count": null,
   "metadata": {},
   "outputs": [],
   "source": [
    "# print same thing to file\n",
    "fout = open(\"./pmi-scores/pmi.txt\",\"w\")\n",
    "\n",
    "for title in list(df_by_title.index):\n",
    "    pmi = get_pmi_by_title(df_by_title,P_base,P_title,title)\n",
    "    \n",
    "    print(\"===\", title, \"===\", file=fout)\n",
    "    print(pmi.argsort()[::-1][:10], file=fout) # topics ranked highest pmi to lowest\n",
    "    print(sorted(pmi)[::-1][:10], file=fout) # their scores\n",
    "    \n",
    "fout.close()\n",
    "    "
   ]
  },
  {
   "cell_type": "code",
   "execution_count": null,
   "metadata": {},
   "outputs": [],
   "source": [
    "# now do cosine similarity on all combos of papers -- to here\n",
    "\n",
    "np.zeros(X_all_years.shape[0]-1)\n",
    "\n",
    "for i,X_year in enumerate(X_all_years[:-1,]):\n",
    "    corr[i] = X_year.dot(X_all_years[i+1,]) / ((np.linalg.norm(X_year)) * (np.linalg.norm(X_all_years[i+1,])))\n",
    "\n"
   ]
  }
 ],
 "metadata": {
  "kernelspec": {
   "display_name": "Python 3",
   "language": "python",
   "name": "python3"
  },
  "language_info": {
   "codemirror_mode": {
    "name": "ipython",
    "version": 3
   },
   "file_extension": ".py",
   "mimetype": "text/x-python",
   "name": "python",
   "nbconvert_exporter": "python",
   "pygments_lexer": "ipython3",
   "version": "3.7.2"
  }
 },
 "nbformat": 4,
 "nbformat_minor": 2
}
